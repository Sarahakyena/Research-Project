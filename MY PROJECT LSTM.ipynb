{
 "cells": [
  {
   "cell_type": "code",
   "execution_count": 26,
   "metadata": {
    "collapsed": false
   },
   "outputs": [],
   "source": [
    "import numpy as np\n",
    "import tensorflow as tf\n",
    "import pandas as pd\n",
    "import matplotlib.pyplot as plt\n",
    "from sklearn.preprocessing import MinMaxScaler\n",
    "import math\n",
    "\n",
    "# Keras imports\n",
    "from keras.models import Sequential\n",
    "from keras.layers import Dense\n",
    "\n",
    "# Here we import the LSTM cell which allows us to make LSTM cells\n",
    "# Here is the documentation for the LSTM cell in Keras https://keras.io/layers/recurrent/#lstm\n",
    "from keras.layers import LSTM\n",
    "from sklearn.metrics import mean_squared_error\n",
    "from sklearn.utils import check_array\n",
    "from sklearn.metrics import mean_absolute_error\n"
   ]
  },
  {
   "cell_type": "markdown",
   "metadata": {},
   "source": [
    "# We load our data using pandas"
   ]
  },
  {
   "cell_type": "code",
   "execution_count": 27,
   "metadata": {
    "collapsed": true
   },
   "outputs": [],
   "source": [
    "dataframe = pd.read_csv('UNRATE.csv')"
   ]
  },
  {
   "cell_type": "code",
   "execution_count": 28,
   "metadata": {
    "collapsed": false
   },
   "outputs": [
    {
     "data": {
      "text/html": [
       "<div>\n",
       "<style scoped>\n",
       "    .dataframe tbody tr th:only-of-type {\n",
       "        vertical-align: middle;\n",
       "    }\n",
       "\n",
       "    .dataframe tbody tr th {\n",
       "        vertical-align: top;\n",
       "    }\n",
       "\n",
       "    .dataframe thead th {\n",
       "        text-align: right;\n",
       "    }\n",
       "</style>\n",
       "<table border=\"1\" class=\"dataframe\">\n",
       "  <thead>\n",
       "    <tr style=\"text-align: right;\">\n",
       "      <th></th>\n",
       "      <th>DATE</th>\n",
       "      <th>UNRATE</th>\n",
       "    </tr>\n",
       "  </thead>\n",
       "  <tbody>\n",
       "    <tr>\n",
       "      <th>0</th>\n",
       "      <td>1948-01-01</td>\n",
       "      <td>3.4</td>\n",
       "    </tr>\n",
       "    <tr>\n",
       "      <th>1</th>\n",
       "      <td>1948-02-01</td>\n",
       "      <td>3.8</td>\n",
       "    </tr>\n",
       "    <tr>\n",
       "      <th>2</th>\n",
       "      <td>1948-03-01</td>\n",
       "      <td>4.0</td>\n",
       "    </tr>\n",
       "    <tr>\n",
       "      <th>3</th>\n",
       "      <td>1948-04-01</td>\n",
       "      <td>3.9</td>\n",
       "    </tr>\n",
       "    <tr>\n",
       "      <th>4</th>\n",
       "      <td>1948-05-01</td>\n",
       "      <td>3.5</td>\n",
       "    </tr>\n",
       "  </tbody>\n",
       "</table>\n",
       "</div>"
      ],
      "text/plain": [
       "         DATE  UNRATE\n",
       "0  1948-01-01     3.4\n",
       "1  1948-02-01     3.8\n",
       "2  1948-03-01     4.0\n",
       "3  1948-04-01     3.9\n",
       "4  1948-05-01     3.5"
      ]
     },
     "execution_count": 28,
     "metadata": {},
     "output_type": "execute_result"
    }
   ],
   "source": [
    "dataframe.head()"
   ]
  },
  {
   "cell_type": "code",
   "execution_count": 29,
   "metadata": {
    "collapsed": false
   },
   "outputs": [
    {
     "data": {
      "text/html": [
       "<div>\n",
       "<style scoped>\n",
       "    .dataframe tbody tr th:only-of-type {\n",
       "        vertical-align: middle;\n",
       "    }\n",
       "\n",
       "    .dataframe tbody tr th {\n",
       "        vertical-align: top;\n",
       "    }\n",
       "\n",
       "    .dataframe thead th {\n",
       "        text-align: right;\n",
       "    }\n",
       "</style>\n",
       "<table border=\"1\" class=\"dataframe\">\n",
       "  <thead>\n",
       "    <tr style=\"text-align: right;\">\n",
       "      <th></th>\n",
       "      <th>UNRATE</th>\n",
       "    </tr>\n",
       "  </thead>\n",
       "  <tbody>\n",
       "    <tr>\n",
       "      <th>0</th>\n",
       "      <td>3.4</td>\n",
       "    </tr>\n",
       "    <tr>\n",
       "      <th>1</th>\n",
       "      <td>3.8</td>\n",
       "    </tr>\n",
       "    <tr>\n",
       "      <th>2</th>\n",
       "      <td>4.0</td>\n",
       "    </tr>\n",
       "    <tr>\n",
       "      <th>3</th>\n",
       "      <td>3.9</td>\n",
       "    </tr>\n",
       "    <tr>\n",
       "      <th>4</th>\n",
       "      <td>3.5</td>\n",
       "    </tr>\n",
       "  </tbody>\n",
       "</table>\n",
       "</div>"
      ],
      "text/plain": [
       "   UNRATE\n",
       "0     3.4\n",
       "1     3.8\n",
       "2     4.0\n",
       "3     3.9\n",
       "4     3.5"
      ]
     },
     "execution_count": 29,
     "metadata": {},
     "output_type": "execute_result"
    }
   ],
   "source": [
    "dataframe1 = dataframe[['UNRATE']] # the four columns are Open,High,Low and Close.\n",
    "dataframe1.head()"
   ]
  },
  {
   "cell_type": "code",
   "execution_count": 30,
   "metadata": {
    "collapsed": false
   },
   "outputs": [
    {
     "data": {
      "image/png": "[encoded data removed]",
      "text/plain": [
       "<Figure size 432x288 with 1 Axes>"
      ]
     },
     "metadata": {
      "needs_background": "light"
     },
     "output_type": "display_data"
    }
   ],
   "source": [
    "plt.plot(dataframe1[0:])\n",
    "plt.title('US Unemployment rate')\n",
    "plt.xlabel('Time Steps')\n",
    "plt.ylabel('Unemployment rate')\n",
    "#plt.legend()\n",
    "plt.savefig(\"Plot Of Unemployment rate.eps\", format='eps', dpi=1000)\n",
    "plt.show()"
   ]
  },
  {
   "cell_type": "markdown",
   "metadata": {},
   "source": [
    "### WE NORMALISE OUR DATA"
   ]
  },
  {
   "cell_type": "code",
   "execution_count": 31,
   "metadata": {
    "collapsed": true
   },
   "outputs": [],
   "source": [
    "scaler = MinMaxScaler(feature_range=(0, 1))\n",
    "dataframe1 = scaler.fit_transform(dataframe1)"
   ]
  },
  {
   "cell_type": "code",
   "execution_count": 32,
   "metadata": {
    "collapsed": false
   },
   "outputs": [
    {
     "data": {
      "text/plain": [
       "array([[0.10843373],\n",
       "       [0.15662651],\n",
       "       [0.18072289],\n",
       "       [0.1686747 ],\n",
       "       [0.12048193]])"
      ]
     },
     "execution_count": 32,
     "metadata": {},
     "output_type": "execute_result"
    }
   ],
   "source": [
    "dataframe1[0:5]"
   ]
  },
  {
   "cell_type": "markdown",
   "metadata": {},
   "source": [
    "## We create labels for our datasets."
   ]
  },
  {
   "cell_type": "code",
   "execution_count": 33,
   "metadata": {
    "collapsed": true
   },
   "outputs": [],
   "source": [
    "def create_dataset(dataset, look_back=1):\n",
    "    dataX, dataY = [], []\n",
    "    for i in range(len(dataset)-look_back-1):\n",
    "        a = dataset[i:(i+look_back), 0]\n",
    "        dataX.append(a)\n",
    "        dataY.append(dataset[i + look_back, 0])\n",
    "    return np.array(dataX), np.array(dataY)"
   ]
  },
  {
   "cell_type": "code",
   "execution_count": 34,
   "metadata": {
    "collapsed": true
   },
   "outputs": [],
   "source": [
    "dataX,dataY=create_dataset(dataframe1,look_back=1)"
   ]
  },
  {
   "cell_type": "markdown",
   "metadata": {},
   "source": [
    "## We split our dataset using 70 percent for training and 30 percent for testing."
   ]
  },
  {
   "cell_type": "code",
   "execution_count": 35,
   "metadata": {
    "collapsed": true
   },
   "outputs": [],
   "source": [
    "train_size = int(len(dataframe1) * 0.7)\n",
    "test_size = len(dataframe1) - train_size\n",
    "train, test = dataframe1[0:train_size,:], dataframe1[train_size:len(dataframe1),:]"
   ]
  },
  {
   "cell_type": "code",
   "execution_count": 36,
   "metadata": {
    "collapsed": true
   },
   "outputs": [],
   "source": [
    "look_back = 12 # window size of 12.\n",
    "\n",
    "# Split the data into training features and training targets\n",
    "trainX, trainY = create_dataset(train, look_back)\n",
    "\n",
    "# Split the data into testing features and testing targets\n",
    "testX, testY = create_dataset(test, look_back)"
   ]
  },
  {
   "cell_type": "code",
   "execution_count": 37,
   "metadata": {
    "collapsed": false
   },
   "outputs": [
    {
     "data": {
      "text/plain": [
       "array([[0.10843373],\n",
       "       [0.15662651],\n",
       "       [0.18072289],\n",
       "       [0.1686747 ],\n",
       "       [0.12048193],\n",
       "       [0.13253012],\n",
       "       [0.13253012],\n",
       "       [0.1686747 ],\n",
       "       [0.15662651],\n",
       "       [0.14457831],\n",
       "       [0.15662651],\n",
       "       [0.18072289],\n",
       "       [0.21686747],\n",
       "       [0.26506024],\n",
       "       [0.30120482]])"
      ]
     },
     "execution_count": 37,
     "metadata": {},
     "output_type": "execute_result"
    }
   ],
   "source": [
    "dataframe1[0:15]"
   ]
  },
  {
   "cell_type": "code",
   "execution_count": 38,
   "metadata": {
    "collapsed": false
   },
   "outputs": [
    {
     "data": {
      "text/plain": [
       "array([[0.10843373, 0.15662651, 0.18072289, 0.1686747 , 0.12048193,\n",
       "        0.13253012, 0.13253012, 0.1686747 , 0.15662651, 0.14457831,\n",
       "        0.15662651, 0.18072289],\n",
       "       [0.15662651, 0.18072289, 0.1686747 , 0.12048193, 0.13253012,\n",
       "        0.13253012, 0.1686747 , 0.15662651, 0.14457831, 0.15662651,\n",
       "        0.18072289, 0.21686747],\n",
       "       [0.18072289, 0.1686747 , 0.12048193, 0.13253012, 0.13253012,\n",
       "        0.1686747 , 0.15662651, 0.14457831, 0.15662651, 0.18072289,\n",
       "        0.21686747, 0.26506024],\n",
       "       [0.1686747 , 0.12048193, 0.13253012, 0.13253012, 0.1686747 ,\n",
       "        0.15662651, 0.14457831, 0.15662651, 0.18072289, 0.21686747,\n",
       "        0.26506024, 0.30120482],\n",
       "       [0.12048193, 0.13253012, 0.13253012, 0.1686747 , 0.15662651,\n",
       "        0.14457831, 0.15662651, 0.18072289, 0.21686747, 0.26506024,\n",
       "        0.30120482, 0.3373494 ],\n",
       "       [0.13253012, 0.13253012, 0.1686747 , 0.15662651, 0.14457831,\n",
       "        0.15662651, 0.18072289, 0.21686747, 0.26506024, 0.30120482,\n",
       "        0.3373494 , 0.43373494]])"
      ]
     },
     "execution_count": 38,
     "metadata": {},
     "output_type": "execute_result"
    }
   ],
   "source": [
    "trainX[0:6]"
   ]
  },
  {
   "cell_type": "code",
   "execution_count": 39,
   "metadata": {
    "collapsed": false
   },
   "outputs": [
    {
     "data": {
      "text/plain": [
       "array([0.21686747, 0.26506024, 0.30120482, 0.3373494 , 0.43373494,\n",
       "       0.44578313])"
      ]
     },
     "execution_count": 39,
     "metadata": {},
     "output_type": "execute_result"
    }
   ],
   "source": [
    "trainY[0:6]"
   ]
  },
  {
   "cell_type": "code",
   "execution_count": 40,
   "metadata": {
    "collapsed": false
   },
   "outputs": [
    {
     "data": {
      "text/plain": [
       "array([0.26506024, 0.25301205, 0.26506024, 0.25301205, 0.25301205,\n",
       "       0.26506024, 0.21686747, 0.22891566, 0.24096386, 0.24096386,\n",
       "       0.24096386, 0.25301205])"
      ]
     },
     "execution_count": 40,
     "metadata": {},
     "output_type": "execute_result"
    }
   ],
   "source": [
    "testX[0]"
   ]
  },
  {
   "cell_type": "code",
   "execution_count": 41,
   "metadata": {
    "collapsed": false
   },
   "outputs": [
    {
     "data": {
      "text/plain": [
       "0.216867469879518"
      ]
     },
     "execution_count": 41,
     "metadata": {},
     "output_type": "execute_result"
    }
   ],
   "source": [
    "trainY[0]"
   ]
  },
  {
   "cell_type": "code",
   "execution_count": 42,
   "metadata": {
    "collapsed": false
   },
   "outputs": [
    {
     "name": "stdout",
     "output_type": "stream",
     "text": [
      "Train X shape  (584, 12)\n",
      "Train Y shape (584,)\n",
      "Test X shape  (243, 12)\n",
      "Test Y shape  (243,)\n"
     ]
    }
   ],
   "source": [
    "print('Train X shape ',trainX.shape)\n",
    "print('Train Y shape',trainY.shape)\n",
    "print('Test X shape ',testX.shape)\n",
    "print('Test Y shape ',testY.shape)"
   ]
  },
  {
   "cell_type": "code",
   "execution_count": 43,
   "metadata": {
    "collapsed": false
   },
   "outputs": [
    {
     "data": {
      "text/plain": [
       "(853, 1)"
      ]
     },
     "execution_count": 43,
     "metadata": {},
     "output_type": "execute_result"
    }
   ],
   "source": [
    "dataframe1.shape"
   ]
  },
  {
   "cell_type": "code",
   "execution_count": 44,
   "metadata": {
    "collapsed": false
   },
   "outputs": [
    {
     "data": {
      "text/plain": [
       "array([[0.26506024, 0.25301205, 0.26506024, 0.25301205, 0.25301205,\n",
       "        0.26506024, 0.21686747, 0.22891566, 0.24096386, 0.24096386,\n",
       "        0.24096386, 0.25301205],\n",
       "       [0.25301205, 0.26506024, 0.25301205, 0.25301205, 0.26506024,\n",
       "        0.21686747, 0.22891566, 0.24096386, 0.24096386, 0.24096386,\n",
       "        0.25301205, 0.24096386],\n",
       "       [0.26506024, 0.25301205, 0.25301205, 0.26506024, 0.21686747,\n",
       "        0.22891566, 0.24096386, 0.24096386, 0.24096386, 0.25301205,\n",
       "        0.24096386, 0.22891566],\n",
       "       [0.25301205, 0.25301205, 0.26506024, 0.21686747, 0.22891566,\n",
       "        0.24096386, 0.24096386, 0.24096386, 0.25301205, 0.24096386,\n",
       "        0.22891566, 0.22891566],\n",
       "       [0.25301205, 0.26506024, 0.21686747, 0.22891566, 0.24096386,\n",
       "        0.24096386, 0.24096386, 0.25301205, 0.24096386, 0.22891566,\n",
       "        0.22891566, 0.21686747],\n",
       "       [0.26506024, 0.21686747, 0.22891566, 0.24096386, 0.24096386,\n",
       "        0.24096386, 0.25301205, 0.24096386, 0.22891566, 0.22891566,\n",
       "        0.21686747, 0.22891566]])"
      ]
     },
     "execution_count": 44,
     "metadata": {},
     "output_type": "execute_result"
    }
   ],
   "source": [
    "testX[0:6]"
   ]
  },
  {
   "cell_type": "code",
   "execution_count": 45,
   "metadata": {
    "collapsed": false
   },
   "outputs": [
    {
     "data": {
      "text/plain": [
       "array([0.24096386, 0.22891566, 0.22891566, 0.21686747, 0.22891566,\n",
       "       0.20481928])"
      ]
     },
     "execution_count": 45,
     "metadata": {},
     "output_type": "execute_result"
    }
   ],
   "source": [
    "testY[0:6]"
   ]
  },
  {
   "cell_type": "markdown",
   "metadata": {},
   "source": [
    "## We reshape our data"
   ]
  },
  {
   "cell_type": "code",
   "execution_count": 46,
   "metadata": {
    "collapsed": true
   },
   "outputs": [],
   "source": [
    "trainX = np.reshape(trainX, (trainX.shape[0], trainX.shape[1], 1))\n",
    "testX = np.reshape(testX, (testX.shape[0], testX.shape[1], 1))"
   ]
  },
  {
   "cell_type": "code",
   "execution_count": 47,
   "metadata": {
    "collapsed": false
   },
   "outputs": [
    {
     "name": "stdout",
     "output_type": "stream",
     "text": [
      "Train X shape  (584, 12, 1)\n",
      "Train Y shape (584,)\n",
      "Test X shape  (243, 12, 1)\n",
      "Test Y shape  (243,)\n"
     ]
    }
   ],
   "source": [
    "print('Train X shape ',trainX.shape)\n",
    "print('Train Y shape',trainY.shape)\n",
    "print('Test X shape ',testX.shape)\n",
    "print('Test Y shape ',testY.shape)"
   ]
  },
  {
   "cell_type": "code",
   "execution_count": 48,
   "metadata": {
    "collapsed": false
   },
   "outputs": [
    {
     "name": "stdout",
     "output_type": "stream",
     "text": [
      "_________________________________________________________________\n",
      "Layer (type)                 Output Shape              Param #   \n",
      "=================================================================\n",
      "lstm_2 (LSTM)                (None, 50)                10400     \n",
      "_________________________________________________________________\n",
      "dense_2 (Dense)              (None, 1)                 51        \n",
      "=================================================================\n",
      "Total params: 10,451\n",
      "Trainable params: 10,451\n",
      "Non-trainable params: 0\n",
      "_________________________________________________________________\n"
     ]
    }
   ],
   "source": [
    "model = Sequential()\n",
    "model.add(LSTM(50,activation='relu',input_shape=(12,1)))\n",
    "model.add(Dense(1))\n",
    "model.compile(optimizer='adam',loss='mse')\n",
    "model.summary()"
   ]
  },
  {
   "cell_type": "code",
   "execution_count": 49,
   "metadata": {
    "collapsed": false
   },
   "outputs": [],
   "source": [
    "for i in range(12):\n",
    "    model.fit(trainX, trainY, epochs=100, batch_size=1,validation_split= 0.2,verbose=0, shuffle=False)\n",
    "    model.reset_states()\n",
    "# Estimate model performance\n"
   ]
  },
  {
   "cell_type": "code",
   "execution_count": 50,
   "metadata": {
    "collapsed": false
   },
   "outputs": [
    {
     "name": "stdout",
     "output_type": "stream",
     "text": [
      "Loss on train : 0.0008\n",
      "Loss on test : 0.0014\n"
     ]
    }
   ],
   "source": [
    "# Estimate model performance\n",
    "trainScore = model.evaluate(trainX, trainY, batch_size=1, verbose=0)\n",
    "model.reset_states()\n",
    "print(\"Loss on train : %.4f\"%trainScore)\n",
    "testScore = model.evaluate(testX, testY, batch_size=1, verbose=0)\n",
    "model.reset_states()\n",
    "print(\"Loss on test : %.4f\"%testScore)\n",
    "\n"
   ]
  },
  {
   "cell_type": "code",
   "execution_count": 51,
   "metadata": {
    "collapsed": true
   },
   "outputs": [],
   "source": [
    "# generate predictions for training\n",
    "trainPredict = model.predict(trainX, batch_size=1)\n",
    "testPredict = model.predict(testX, batch_size=1)\n",
    "# shift train predictions for plotting\n",
    "trainPredictPlot = np.empty_like(dataframe1)\n",
    "trainPredictPlot[:, :] = np.nan\n",
    "trainPredictPlot[look_back:len(trainPredict)+look_back, :] = trainPredict\n",
    "\n",
    "# shift test predictions for plotting\n",
    "testPredictPlot = np.empty_like(dataframe1)\n",
    "testPredictPlot[:, :] = np.nan\n",
    "testPredictPlot[len(trainPredict)+(look_back*2)+1:len(dataframe1)-1, :] = testPredict"
   ]
  },
  {
   "cell_type": "markdown",
   "metadata": {},
   "source": [
    "# We plot the predictions for train and test set in scaled coordinate"
   ]
  },
  {
   "cell_type": "code",
   "execution_count": 52,
   "metadata": {
    "collapsed": false
   },
   "outputs": [
    {
     "data": {
      "image/png": "[encoded data removed]",
      "text/plain": [
       "<Figure size 432x288 with 1 Axes>"
      ]
     },
     "metadata": {
      "needs_background": "light"
     },
     "output_type": "display_data"
    }
   ],
   "source": [
    "plt.plot(dataframe1,label=\"actual data\")\n",
    "plt.plot(trainPredictPlot, label=\"train_Predict\")\n",
    "plt.plot(testPredictPlot,label=\"test_Predict\")\n",
    "plt.legend()\n",
    "plt.show()"
   ]
  },
  {
   "cell_type": "markdown",
   "metadata": {},
   "source": [
    "# Plot of the predictions using the test data in scaled coordinate"
   ]
  },
  {
   "cell_type": "code",
   "execution_count": 53,
   "metadata": {
    "collapsed": false
   },
   "outputs": [
    {
     "data": {
      "image/png": "[encoded data removed]",
      "text/plain": [
       "<Figure size 432x288 with 1 Axes>"
      ]
     },
     "metadata": {
      "needs_background": "light"
     },
     "output_type": "display_data"
    }
   ],
   "source": [
    "plt.plot([i for i in range(610,853)],dataframe1[610:,],\n",
    "         label=\"testing_actual prices\")\n",
    "plt.plot(testPredictPlot,label=\"test_Predict\")\n",
    "plt.title('Plot of Predicted Test Data and Original Test Data in Scaled Coordinates')\n",
    "plt.xlabel('Time Steps')\n",
    "plt.ylabel('Values')\n",
    "\n",
    "xpos=[i for i in range(610,853,21)]\n",
    "\n",
    "plt.xticks(xpos,[1998+(i*2) for i in range(len(xpos))])\n",
    "plt.legend()\n",
    "plt.show()\n"
   ]
  },
  {
   "cell_type": "code",
   "execution_count": 54,
   "metadata": {
    "collapsed": false
   },
   "outputs": [
    {
     "name": "stdout",
     "output_type": "stream",
     "text": [
      "Train Score: 0.23 RMSE\n",
      "Test Score: 0.31 RMSE\n"
     ]
    }
   ],
   "source": [
    "from sklearn.metrics import mean_squared_error\n",
    "trainPredict_inv = scaler.inverse_transform(trainPredict)\n",
    "trainY_inv = scaler.inverse_transform([trainY])\n",
    "testPredict_inv = scaler.inverse_transform(testPredict)\n",
    "testY_inv = scaler.inverse_transform([testY])\n",
    "data=dataframe[['UNRATE']]\n",
    "# calculate root mean squared error\n",
    "trainScore = math.sqrt(mean_squared_error(trainY_inv[0], trainPredict_inv[:,0]))\n",
    "print('Train Score: %.2f RMSE' % (trainScore))\n",
    "testScore = math.sqrt(mean_squared_error(testY_inv[0], testPredict_inv[:,0]))\n",
    "print('Test Score: %.2f RMSE' % (testScore))"
   ]
  },
  {
   "cell_type": "code",
   "execution_count": 55,
   "metadata": {
    "collapsed": false
   },
   "outputs": [
    {
     "data": {
      "text/plain": [
       "0.09344919149429523"
      ]
     },
     "execution_count": 55,
     "metadata": {},
     "output_type": "execute_result"
    }
   ],
   "source": [
    "mean_squared_error(testY_inv[0],testPredict_inv[:,0])"
   ]
  },
  {
   "cell_type": "code",
   "execution_count": 56,
   "metadata": {
    "collapsed": true
   },
   "outputs": [],
   "source": [
    "from sklearn.metrics import mean_absolute_error\n"
   ]
  },
  {
   "cell_type": "markdown",
   "metadata": {
    "collapsed": true
   },
   "source": [
    "# Now we plot the predictions derived using the train and test data\n",
    "# in the original coordinate"
   ]
  },
  {
   "cell_type": "code",
   "execution_count": 58,
   "metadata": {
    "collapsed": false
   },
   "outputs": [
    {
     "data": {
      "image/png": "[encoded data removed]",
      "text/plain": [
       "<Figure size 1080x504 with 1 Axes>"
      ]
     },
     "metadata": {
      "needs_background": "light"
     },
     "output_type": "display_data"
    }
   ],
   "source": [
    "ItrainPredictPlot = np.empty_like(dataframe1)\n",
    "ItrainPredictPlot[:, :] = np.nan    # Note that points with nan value are not plotted by matplotlib\n",
    "ItrainPredictPlot[look_back:len(trainPredict_inv)+look_back, :] = trainPredict_inv\n",
    "# shift test predictions for plotting\n",
    "ItestPredictPlot = np.empty_like(data)\n",
    "ItestPredictPlot[:, :] = np.nan\n",
    "ItestPredictPlot[len(trainPredict_inv)+(look_back*2)+1:len(data)-1, :] = testPredict_inv\n",
    "\n",
    "# plot baseline and predictions\n",
    "plt.figure(figsize=(15,7))\n",
    "linewidth=1\n",
    "dstep=10\n",
    "plt.plot(data.values,'b',label='data',linewidth=linewidth)\n",
    "plt.plot(ItrainPredictPlot,'g',label='trainpred',linewidth=linewidth+0.1)\n",
    "plt.plot(ItestPredictPlot,'r',label='testpred',linewidth=linewidth+0.1)\n",
    "plt.title('Plot of Predicted Train and Test Data and Unpredicted Data in Original Coordinates')\n",
    "plt.xlabel('Time Steps')\n",
    "plt.ylabel('Values')\n",
    "plt.legend()\n",
    "plt.show()"
   ]
  },
  {
   "cell_type": "code",
   "execution_count": null,
   "metadata": {
    "collapsed": true
   },
   "outputs": [],
   "source": []
  },
  {
   "cell_type": "markdown",
   "metadata": {},
   "source": [
    "## We plot only the testpredict against the actual (Predictions using the test set against\n",
    "## the actual value)"
   ]
  },
  {
   "cell_type": "code",
   "execution_count": 59,
   "metadata": {
    "collapsed": false
   },
   "outputs": [
    {
     "data": {
      "image/png": "[encoded data removed]",
      "text/plain": [
       "<Figure size 432x288 with 1 Axes>"
      ]
     },
     "metadata": {
      "needs_background": "light"
     },
     "output_type": "display_data"
    }
   ],
   "source": [
    "plt.plot([i for i in range(610,853)],data.values[610:,],\n",
    "         label=\"Actual_UNRATE\")\n",
    "plt.plot(ItestPredictPlot,label=\"Predict_UNRATE\")\n",
    "plt.legend()\n",
    "plt.title('1 Month Horizon')\n",
    "plt.xlabel('Time steps')\n",
    "plt.ylabel('Unemployment rate')\n",
    "xpos=[i for i in range(610,853,24)]\n",
    "plt.xticks(xpos,[1998+(i*2) for i in range(len(xpos))])\n",
    "plt.legend()\n",
    "plt.savefig(\"1 Month Horizon LSTM(NEW111).eps\", format='eps', dpi=1000)\n",
    "plt.show()\n",
    "plt.show()\n"
   ]
  },
  {
   "cell_type": "code",
   "execution_count": 60,
   "metadata": {
    "collapsed": true
   },
   "outputs": [],
   "source": [
    "def mean_absolute_percentage_error(y_true, y_pred): \n",
    "    y_true, y_pred = np.array(y_true), np.array(y_pred)\n",
    "    return np.mean(np.abs((y_true - y_pred) / y_true)) * 100"
   ]
  },
  {
   "cell_type": "markdown",
   "metadata": {},
   "source": [
    "## Calculation of the Mean Absolute Percentage Error for the test Data"
   ]
  },
  {
   "cell_type": "code",
   "execution_count": 61,
   "metadata": {
    "collapsed": false
   },
   "outputs": [
    {
     "data": {
      "text/plain": [
       "4.927086044707398"
      ]
     },
     "execution_count": 61,
     "metadata": {},
     "output_type": "execute_result"
    }
   ],
   "source": [
    "mean_absolute_percentage_error(testY_inv[0],testPredict_inv[:,0])"
   ]
  },
  {
   "cell_type": "markdown",
   "metadata": {},
   "source": [
    "## Calculation of the Mean Absolute  Error for the test Data"
   ]
  },
  {
   "cell_type": "code",
   "execution_count": 62,
   "metadata": {
    "collapsed": false
   },
   "outputs": [
    {
     "data": {
      "text/plain": [
       "0.25924860440163944"
      ]
     },
     "execution_count": 62,
     "metadata": {},
     "output_type": "execute_result"
    }
   ],
   "source": [
    "mean_absolute_error(testY_inv[0],testPredict_inv[:,0])"
   ]
  },
  {
   "cell_type": "markdown",
   "metadata": {},
   "source": [
    "## Calculation of the Root Mean Square Error Error for the test Data"
   ]
  },
  {
   "cell_type": "code",
   "execution_count": 63,
   "metadata": {
    "collapsed": false
   },
   "outputs": [
    {
     "name": "stdout",
     "output_type": "stream",
     "text": [
      "Test Score: 0.31 RMSE\n"
     ]
    }
   ],
   "source": [
    "testScore = math.sqrt(mean_squared_error(testY_inv[0], testPredict_inv[:,0]))\n",
    "print('Test Score: %.2f RMSE' % (testScore))"
   ]
  },
  {
   "cell_type": "code",
   "execution_count": null,
   "metadata": {
    "collapsed": true
   },
   "outputs": [],
   "source": []
  },
  {
   "cell_type": "code",
   "execution_count": null,
   "metadata": {
    "collapsed": true
   },
   "outputs": [],
   "source": []
  },
  {
   "cell_type": "code",
   "execution_count": null,
   "metadata": {
    "collapsed": true
   },
   "outputs": [],
   "source": []
  },
  {
   "cell_type": "code",
   "execution_count": null,
   "metadata": {
    "collapsed": true
   },
   "outputs": [],
   "source": []
  },
  {
   "cell_type": "code",
   "execution_count": null,
   "metadata": {
    "collapsed": true
   },
   "outputs": [],
   "source": []
  },
  {
   "cell_type": "code",
   "execution_count": null,
   "metadata": {
    "collapsed": true
   },
   "outputs": [],
   "source": []
  },
  {
   "cell_type": "code",
   "execution_count": null,
   "metadata": {
    "collapsed": true
   },
   "outputs": [],
   "source": []
  },
  {
   "cell_type": "code",
   "execution_count": null,
   "metadata": {
    "collapsed": true
   },
   "outputs": [],
   "source": []
  },
  {
   "cell_type": "code",
   "execution_count": null,
   "metadata": {
    "collapsed": true
   },
   "outputs": [],
   "source": []
  },
  {
   "cell_type": "code",
   "execution_count": null,
   "metadata": {
    "collapsed": true
   },
   "outputs": [],
   "source": []
  },
  {
   "cell_type": "code",
   "execution_count": null,
   "metadata": {
    "collapsed": false
   },
   "outputs": [],
   "source": [
    "L=range(610,853,21)\n",
    "print (L)"
   ]
  },
  {
   "cell_type": "code",
   "execution_count": null,
   "metadata": {
    "collapsed": false
   },
   "outputs": [],
   "source": [
    "NN=[i for i in range(610,853,21)]\n",
    "NN\n"
   ]
  },
  {
   "cell_type": "code",
   "execution_count": null,
   "metadata": {
    "collapsed": false
   },
   "outputs": [],
   "source": [
    "len(NN)"
   ]
  },
  {
   "cell_type": "code",
   "execution_count": null,
   "metadata": {
    "collapsed": true
   },
   "outputs": [],
   "source": [
    "BB=(NN,[1998+(i*2) for i in range(len(NN)-1)])"
   ]
  },
  {
   "cell_type": "code",
   "execution_count": null,
   "metadata": {
    "collapsed": false
   },
   "outputs": [],
   "source": [
    "BB"
   ]
  },
  {
   "cell_type": "code",
   "execution_count": null,
   "metadata": {
    "collapsed": true
   },
   "outputs": [],
   "source": []
  }
 ],
 "metadata": {
  "kernelspec": {
   "display_name": "Python 3",
   "language": "python",
   "name": "python3"
  },
  "language_info": {
   "codemirror_mode": {
    "name": "ipython",
    "version": 3
   },
   "file_extension": ".py",
   "mimetype": "text/x-python",
   "name": "python",
   "nbconvert_exporter": "python",
   "pygments_lexer": "ipython3",
   "version": "3.5.3"
  }
 },
 "nbformat": 4,
 "nbformat_minor": 2
}
